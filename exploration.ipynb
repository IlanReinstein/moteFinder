{
 "cells": [
  {
   "cell_type": "code",
   "execution_count": 8,
   "id": "e3a099e3-65a1-4bfe-a002-02f9aa6f8948",
   "metadata": {},
   "outputs": [],
   "source": [
    "import os\n",
    "from dotenv import load_dotenv\n",
    "\n",
    "load_dotenv()\n",
    "VANTAGE_KEY = os.environ['VANTAGE_API']\n",
    "assert VANTAGE_KEY is not None"
   ]
  },
  {
   "cell_type": "code",
   "execution_count": 9,
   "id": "1d926e0e-2411-416f-a510-9d0482139d6a",
   "metadata": {},
   "outputs": [],
   "source": [
    "import polars as pl\n",
    "sp500_table = pl.read_csv('data/sp500.csv').with_row_index('company_id')\n",
    "test_symbols = list(sp500_table.sample(5)['Symbol'])"
   ]
  },
  {
   "cell_type": "code",
   "execution_count": 10,
   "id": "c6619f87-f0a6-412b-9b36-562ec77b0e37",
   "metadata": {},
   "outputs": [],
   "source": [
    "import boto3\n",
    "import json"
   ]
  },
  {
   "cell_type": "code",
   "execution_count": 11,
   "id": "0e5267bf-f232-4983-87b3-731848f8ada7",
   "metadata": {},
   "outputs": [],
   "source": [
    "import requests\n",
    "# income_data = []\n",
    "# for sym in test_symbols:\n",
    "#     url = f'https://www.alphavantage.co/query?function=INCOME_STATEMENT&symbol={sym}&apikey={VANTAGE_KEY}'\n",
    "#     r = requests.get(url)\n",
    "#     income_data.append(r.json())\n",
    "\n",
    "# balance_data = []\n",
    "# # for sym in test_symbols:\n",
    "# url = f'https://www.alphavantage.co/query?function=BALANCE_SHEET&symbol=AAP&apikey={VANTAGE_KEY}'\n",
    "# r = requests.get(url)\n",
    "# balance_data.append(r.json())\n",
    "\n",
    "# response.json()"
   ]
  },
  {
   "cell_type": "code",
   "execution_count": 5,
   "id": "e3ff5140-a232-4bd4-80b5-0ac53c164d35",
   "metadata": {},
   "outputs": [
    {
     "data": {
      "text/plain": [
       "'2024-10'"
      ]
     },
     "execution_count": 5,
     "metadata": {},
     "output_type": "execute_result"
    }
   ],
   "source": [
    "import requests\n",
    "url = 'https://www.alphavantage.co/query'\n",
    "params = {\n",
    "        'function': 'INCOME_STATEMENT',\n",
    "        'symbol': 'AAP',\n",
    "        'apikey': VANTAGE_KEY\n",
    "        }\n",
    "# response = requests.get(url, params=params)\n",
    "from datetime import datetime\n",
    "datetime.today().strftime('%Y-%m')"
   ]
  },
  {
   "cell_type": "code",
   "execution_count": 14,
   "id": "3f5f0628-b331-4b2d-ae36-c4d2924c645c",
   "metadata": {},
   "outputs": [],
   "source": [
    "balance_list = []\n",
    "\n",
    "# Loop through each company's API response\n",
    "for response in balance_data:\n",
    "    # Extract annualReports data\n",
    "    df = pl.DataFrame(response['annualReports'])\n",
    "    \n",
    "    # Add the company symbol as a new column\n",
    "    df = df.with_columns(\n",
    "        pl.lit(response['symbol']).alias(\"company_id\"),   \n",
    "    )\n",
    "    \n",
    "    # Append the DataFrame to the list\n",
    "    balance_list.append(df)\n",
    "\n",
    "# Combine all DataFrames into one\n",
    "balance_df = pl.concat(balance_list)"
   ]
  },
  {
   "cell_type": "code",
   "execution_count": 10,
   "id": "26a58d64-16f1-45e3-9cd8-ebdee9036a86",
   "metadata": {},
   "outputs": [],
   "source": [
    "income_list = []\n",
    "\n",
    "# Loop through each company's API response\n",
    "for response in income_data:\n",
    "    # Extract annualReports data\n",
    "    df = pl.DataFrame(response['annualReports'])\n",
    "    \n",
    "    # Add the company symbol as a new column\n",
    "    df = df.with_columns(\n",
    "        pl.lit(response['symbol']).alias(\"company_id\"),   \n",
    "    )\n",
    "    \n",
    "    # Append the DataFrame to the list\n",
    "    income_list.append(df)\n",
    "\n",
    "# Combine all DataFrames into one\n",
    "income_df = pl.concat(income_list)\n"
   ]
  },
  {
   "cell_type": "code",
   "execution_count": null,
   "id": "8aa27e42-30e1-4b13-9f08-021980fab068",
   "metadata": {},
   "outputs": [],
   "source": []
  },
  {
   "cell_type": "code",
   "execution_count": 6,
   "id": "da22ddc5-c7c9-4793-9203-42cce2941937",
   "metadata": {},
   "outputs": [],
   "source": [
    "import duckdb\n",
    "import os\n",
    "AWS_KEY = os.environ['AWS_ACCESS_KEY_ID']\n",
    "AWS_SECRET_KEY = os.environ['AWS_SECRET_ACCESS_KEY']\n",
    "# Configure S3 access\n",
    "duckdb.sql(f\"\"\"\n",
    "    INSTALL httpfs;\n",
    "    LOAD httpfs;\n",
    "    SET s3_region='us-east-1'; -- Set your region\n",
    "    SET s3_access_key_id={AWS_KEY};\n",
    "    SET s3_secret_access_key={AWS_SECRET_KEY};\n",
    "\"\"\")\n"
   ]
  },
  {
   "cell_type": "code",
   "execution_count": 7,
   "id": "70d0f774-7194-4657-b7da-3944e2969911",
   "metadata": {},
   "outputs": [
    {
     "name": "stderr",
     "output_type": "stream",
     "text": [
      "/var/folders/x6/5963y0d96z7dql2l8nq8v91m0000gn/T/ipykernel_50556/546509196.py:1: UserWarning: '(default_)region' not set; polars will try to get it from bucket\n",
      "\n",
      "Set the region manually to silence this warning.\n",
      "  combined_data = pl.read_parquet('s3://mote-finder/stage/combined_BALANCE.parquet')\n"
     ]
    }
   ],
   "source": [
    "\n"
   ]
  },
  {
   "cell_type": "code",
   "execution_count": 70,
   "id": "b94fe8d7-c87d-461e-a3c6-6eb20f0ca77f",
   "metadata": {},
   "outputs": [
    {
     "data": {
      "text/html": [
       "<div><style>\n",
       ".dataframe > thead > tr,\n",
       ".dataframe > tbody > tr {\n",
       "  text-align: right;\n",
       "  white-space: pre-wrap;\n",
       "}\n",
       "</style>\n",
       "<small>shape: (14, 28)</small><table border=\"1\" class=\"dataframe\"><thead><tr><th>fiscalDateEnding</th><th>reportedCurrency</th><th>grossProfit</th><th>totalRevenue</th><th>costOfRevenue</th><th>costofGoodsAndServicesSold</th><th>operatingIncome</th><th>sellingGeneralAndAdministrative</th><th>researchAndDevelopment</th><th>operatingExpenses</th><th>investmentIncomeNet</th><th>netInterestIncome</th><th>interestIncome</th><th>interestExpense</th><th>nonInterestIncome</th><th>otherNonOperatingIncome</th><th>depreciation</th><th>depreciationAndAmortization</th><th>incomeBeforeTax</th><th>incomeTaxExpense</th><th>interestAndDebtExpense</th><th>netIncomeFromContinuingOperations</th><th>comprehensiveIncomeNetOfTax</th><th>ebit</th><th>ebitda</th><th>netIncome</th><th>taxRate</th><th>NOPAT</th></tr><tr><td>date</td><td>str</td><td>f64</td><td>f64</td><td>f64</td><td>f64</td><td>f64</td><td>f64</td><td>f64</td><td>f64</td><td>f64</td><td>f64</td><td>f64</td><td>f64</td><td>f64</td><td>f64</td><td>f64</td><td>f64</td><td>f64</td><td>f64</td><td>f64</td><td>f64</td><td>f64</td><td>f64</td><td>f64</td><td>f64</td><td>f64</td><td>f64</td></tr></thead><tbody><tr><td>2023-12-31</td><td>&quot;USD&quot;</td><td>4.5235e9</td><td>1.1284e10</td><td>1.1203e10</td><td>6.7641e9</td><td>1.14377e8</td><td>4.4091e9</td><td>null</td><td>4.4386e9</td><td>null</td><td>-8.5939e7</td><td>null</td><td>8.8055e7</td><td>1.1284e10</td><td>5.525e6</td><td>2.769e8</td><td>2.95e7</td><td>3.1847e7</td><td>2.112e6</td><td>0.0</td><td>2.9735e7</td><td>2.2198e7</td><td>1.14377e8</td><td>1.43877e8</td><td>2.9735e7</td><td>0.066317</td><td>1.0679e8</td></tr><tr><td>2022-12-31</td><td>&quot;USD&quot;</td><td>4.9322e9</td><td>1.1143e10</td><td>1.0472e10</td><td>6.1926e9</td><td>6.70253e8</td><td>4.2620e9</td><td>null</td><td>4.2789e9</td><td>null</td><td>-5.106e7</td><td>5.546e7</td><td>5.106e7</td><td>1.1143e10</td><td>-6.996e6</td><td>2.528e8</td><td>3.1e7</td><td>6.48687e8</td><td>1.3996e8</td><td>7.408e6</td><td>5.01872e8</td><td>4.79356e8</td><td>7.14151e8</td><td>7.45151e8</td><td>4.64402e8</td><td>0.215759</td><td>5.2564e8</td></tr><tr><td>2021-12-31</td><td>&quot;USD&quot;</td><td>4.9287e9</td><td>1.0996e10</td><td>1.0190e10</td><td>6.0692e9</td><td>8.38717e8</td><td>4.0900e9</td><td>null</td><td>4.1211e9</td><td>null</td><td>-3.7791e7</td><td>3.7791e7</td><td>3.7791e7</td><td>1.0996e10</td><td>4.999e6</td><td>2.288e8</td><td>3.11e7</td><td>8.05925e8</td><td>1.89817e8</td><td>0.0</td><td>6.16108e8</td><td>6.2024e8</td><td>8.38717e8</td><td>8.69817e8</td><td>6.16108e8</td><td>0.235527</td><td>6.4118e8</td></tr><tr><td>2020-12-31</td><td>&quot;USD&quot;</td><td>4.4816e9</td><td>1.0051e10</td><td>9.3882e9</td><td>5.6247e9</td><td>7.49907e8</td><td>3.7317e9</td><td>null</td><td>3.7635e9</td><td>null</td><td>-4.6886e7</td><td>4.6886e7</td><td>4.6886e7</td><td>1.0051e10</td><td>-3.984e6</td><td>2.185e8</td><td>3.16e7</td><td>6.51015e8</td><td>1.57994e8</td><td>4.8022e7</td><td>4.93021e8</td><td>5.00831e8</td><td>7.49907e8</td><td>7.81507e8</td><td>4.93021e8</td><td>0.242689</td><td>5.6791e8</td></tr><tr><td>2019-12-31</td><td>&quot;USD&quot;</td><td>4.2547e9</td><td>9.7073e9</td><td>9.0658e9</td><td>5.4543e9</td><td>6.7718e8</td><td>3.5776e9</td><td>null</td><td>3.6116e9</td><td>null</td><td>-3.9898e7</td><td>4.1598e7</td><td>3.9898e7</td><td>9.7073e9</td><td>1.122e7</td><td>2.067e8</td><td>3.17e7</td><td>6.37746e8</td><td>1.5085e8</td><td>1.0756e7</td><td>4.86896e8</td><td>4.9652e8</td><td>6.7718e8</td><td>7.0888e8</td><td>4.86896e8</td><td>0.236536</td><td>5.1700e8</td></tr><tr><td>&hellip;</td><td>&hellip;</td><td>&hellip;</td><td>&hellip;</td><td>&hellip;</td><td>&hellip;</td><td>&hellip;</td><td>&hellip;</td><td>&hellip;</td><td>&hellip;</td><td>&hellip;</td><td>&hellip;</td><td>&hellip;</td><td>&hellip;</td><td>&hellip;</td><td>&hellip;</td><td>&hellip;</td><td>&hellip;</td><td>&hellip;</td><td>&hellip;</td><td>&hellip;</td><td>&hellip;</td><td>&hellip;</td><td>&hellip;</td><td>&hellip;</td><td>&hellip;</td><td>&hellip;</td><td>&hellip;</td></tr><tr><td>2014-12-31</td><td>&quot;USD&quot;</td><td>4.4536e9</td><td>9.7705e9</td><td>9.0867e9</td><td>5.3902e9</td><td>8.5171e8</td><td>3.6019e9</td><td>null</td><td>3.6964e9</td><td>null</td><td>-7.3408e7</td><td>null</td><td>7.3408e7</td><td>null</td><td>3.092e6</td><td>2.3504e8</td><td>5.6499e7</td><td>7.81394e8</td><td>2.87569e8</td><td>7.3408e7</td><td>4.93825e8</td><td>4.77805e8</td><td>8.54802e8</td><td>9.11301e8</td><td>4.93825e8</td><td>0.36802</td><td>5.3826e8</td></tr><tr><td>2013-12-31</td><td>&quot;USD&quot;</td><td>3.2521e9</td><td>6.4496e9</td><td>5.8255e9</td><td>3.2417e9</td><td>6.60318e8</td><td>2.5918e9</td><td>null</td><td>2.6221e9</td><td>null</td><td>-3.6618e7</td><td>null</td><td>3.6618e7</td><td>-7.582e6</td><td>2.698e6</td><td>1.99821e8</td><td>-7.974e6</td><td>6.26398e8</td><td>2.3464e8</td><td>3.6618e7</td><td>3.91758e8</td><td>7.84532e8</td><td>6.63016e8</td><td>6.55042e8</td><td>3.91758e8</td><td>0.374586</td><td>4.1297e8</td></tr><tr><td>2012-12-31</td><td>&quot;USD&quot;</td><td>3.0980e9</td><td>6.1639e9</td><td>5.5458e9</td><td>3.1070e9</td><td>6.57315e8</td><td>2.4407e9</td><td>null</td><td>2.4754e9</td><td>null</td><td>-3.3841e7</td><td>null</td><td>3.3841e7</td><td>-7.299e6</td><td>600000.0</td><td>1.85909e8</td><td>-3.635e6</td><td>6.24074e8</td><td>2.36404e8</td><td>3.3841e7</td><td>3.8767e8</td><td>7.75203e8</td><td>6.57915e8</td><td>6.5428e8</td><td>3.8767e8</td><td>0.378808</td><td>4.0832e8</td></tr><tr><td>2011-12-31</td><td>&quot;USD&quot;</td><td>3.0693e9</td><td>6.1408e9</td><td>5.5052e9</td><td>3.1012e9</td><td>6.64642e8</td><td>2.4046e9</td><td>null</td><td>2.4297e9</td><td>null</td><td>-3.0949e7</td><td>null</td><td>3.0949e7</td><td>1.261e6</td><td>-457000.0</td><td>1.74219e8</td><td>-1.73e6</td><td>6.33236e8</td><td>2.38554e8</td><td>3.0949e7</td><td>3.94682e8</td><td>3.94943e8</td><td>6.64185e8</td><td>6.62455e8</td><td>3.94682e8</td><td>0.376722</td><td>4.1426e8</td></tr><tr><td>2011-12-31</td><td>&quot;USD&quot;</td><td>2.9613e9</td><td>5.9011e9</td><td>5.3395e9</td><td>2.9639e9</td><td>5.84933e8</td><td>2.3764e9</td><td>null</td><td>2.3960e9</td><td>null</td><td>-2.6861e7</td><td>null</td><td>2.6861e7</td><td>2.721e6</td><td>-1.017e6</td><td>1.63378e8</td><td>-1.059e6</td><td>5.57055e8</td><td>2.11002e8</td><td>2.6861e7</td><td>3.46053e8</td><td>3.46335e8</td><td>5.83916e8</td><td>5.82857e8</td><td>3.46053e8</td><td>0.378781</td><td>3.6337e8</td></tr></tbody></table></div>"
      ],
      "text/plain": [
       "shape: (14, 28)\n",
       "┌────────────┬───────────┬───────────┬───────────┬───┬───────────┬───────────┬──────────┬──────────┐\n",
       "│ fiscalDate ┆ reportedC ┆ grossProf ┆ totalReve ┆ … ┆ ebitda    ┆ netIncome ┆ taxRate  ┆ NOPAT    │\n",
       "│ Ending     ┆ urrency   ┆ it        ┆ nue       ┆   ┆ ---       ┆ ---       ┆ ---      ┆ ---      │\n",
       "│ ---        ┆ ---       ┆ ---       ┆ ---       ┆   ┆ f64       ┆ f64       ┆ f64      ┆ f64      │\n",
       "│ date       ┆ str       ┆ f64       ┆ f64       ┆   ┆           ┆           ┆          ┆          │\n",
       "╞════════════╪═══════════╪═══════════╪═══════════╪═══╪═══════════╪═══════════╪══════════╪══════════╡\n",
       "│ 2023-12-31 ┆ USD       ┆ 4.5235e9  ┆ 1.1284e10 ┆ … ┆ 1.43877e8 ┆ 2.9735e7  ┆ 0.066317 ┆ 1.0679e8 │\n",
       "│ 2022-12-31 ┆ USD       ┆ 4.9322e9  ┆ 1.1143e10 ┆ … ┆ 7.45151e8 ┆ 4.64402e8 ┆ 0.215759 ┆ 5.2564e8 │\n",
       "│ 2021-12-31 ┆ USD       ┆ 4.9287e9  ┆ 1.0996e10 ┆ … ┆ 8.69817e8 ┆ 6.16108e8 ┆ 0.235527 ┆ 6.4118e8 │\n",
       "│ 2020-12-31 ┆ USD       ┆ 4.4816e9  ┆ 1.0051e10 ┆ … ┆ 7.81507e8 ┆ 4.93021e8 ┆ 0.242689 ┆ 5.6791e8 │\n",
       "│ 2019-12-31 ┆ USD       ┆ 4.2547e9  ┆ 9.7073e9  ┆ … ┆ 7.0888e8  ┆ 4.86896e8 ┆ 0.236536 ┆ 5.1700e8 │\n",
       "│ …          ┆ …         ┆ …         ┆ …         ┆ … ┆ …         ┆ …         ┆ …        ┆ …        │\n",
       "│ 2014-12-31 ┆ USD       ┆ 4.4536e9  ┆ 9.7705e9  ┆ … ┆ 9.11301e8 ┆ 4.93825e8 ┆ 0.36802  ┆ 5.3826e8 │\n",
       "│ 2013-12-31 ┆ USD       ┆ 3.2521e9  ┆ 6.4496e9  ┆ … ┆ 6.55042e8 ┆ 3.91758e8 ┆ 0.374586 ┆ 4.1297e8 │\n",
       "│ 2012-12-31 ┆ USD       ┆ 3.0980e9  ┆ 6.1639e9  ┆ … ┆ 6.5428e8  ┆ 3.8767e8  ┆ 0.378808 ┆ 4.0832e8 │\n",
       "│ 2011-12-31 ┆ USD       ┆ 3.0693e9  ┆ 6.1408e9  ┆ … ┆ 6.62455e8 ┆ 3.94682e8 ┆ 0.376722 ┆ 4.1426e8 │\n",
       "│ 2011-12-31 ┆ USD       ┆ 2.9613e9  ┆ 5.9011e9  ┆ … ┆ 5.82857e8 ┆ 3.46053e8 ┆ 0.378781 ┆ 3.6337e8 │\n",
       "└────────────┴───────────┴───────────┴───────────┴───┴───────────┴───────────┴──────────┴──────────┘"
      ]
     },
     "execution_count": 70,
     "metadata": {},
     "output_type": "execute_result"
    }
   ],
   "source": [
    "# final_df = df.with_columns(\n",
    "#     pl.col('fiscalDateEnding').str.to_date('%Y-%m-%d'),\n",
    "#     pl.col(\"*\").exclude('fiscalDateEnding', 'reportedCurrency', 'company_id').cast(pl.Float64, strict=False)\n",
    "# )\n",
    "final_df.with_columns(\n",
    "    (pl.col('incomeTaxExpense')/pl.col('incomeBeforeTax')).alias('taxRate')\n",
    ").with_columns(\n",
    "    (pl.col('operatingIncome')*(1-pl.col('taxRate'))).alias('NOPAT')\n",
    ")"
   ]
  },
  {
   "cell_type": "code",
   "execution_count": 31,
   "id": "536b48dc-0653-4659-9ed7-97c7d496d519",
   "metadata": {},
   "outputs": [],
   "source": [
    "# %%timeit\n",
    "# import json\n",
    "# import s3fs\n",
    "# # fs = s3fs.S3FileSystem()\n",
    "# with fs.open(income_statement_path, 'rb') as f:\n",
    "#     s3_clientdata = json.load(f)\n",
    "# df = pl.DataFrame(s3_clientdata['annualReports'])"
   ]
  },
  {
   "cell_type": "code",
   "execution_count": 222,
   "id": "044a8210-13e6-46b5-9c5a-975b18c2939a",
   "metadata": {},
   "outputs": [
    {
     "data": {
      "text/html": [
       "<div><style>\n",
       ".dataframe > thead > tr,\n",
       ".dataframe > tbody > tr {\n",
       "  text-align: right;\n",
       "  white-space: pre-wrap;\n",
       "}\n",
       "</style>\n",
       "<small>shape: (28, 26)</small><table border=\"1\" class=\"dataframe\"><thead><tr><th>fiscalDateEnding</th><th>reportedCurrency</th><th>grossProfit</th><th>totalRevenue</th><th>costOfRevenue</th><th>costofGoodsAndServicesSold</th><th>operatingIncome</th><th>sellingGeneralAndAdministrative</th><th>researchAndDevelopment</th><th>operatingExpenses</th><th>investmentIncomeNet</th><th>netInterestIncome</th><th>interestIncome</th><th>interestExpense</th><th>nonInterestIncome</th><th>otherNonOperatingIncome</th><th>depreciation</th><th>depreciationAndAmortization</th><th>incomeBeforeTax</th><th>incomeTaxExpense</th><th>interestAndDebtExpense</th><th>netIncomeFromContinuingOperations</th><th>comprehensiveIncomeNetOfTax</th><th>ebit</th><th>ebitda</th><th>netIncome</th></tr><tr><td>str</td><td>str</td><td>str</td><td>str</td><td>str</td><td>str</td><td>str</td><td>str</td><td>str</td><td>str</td><td>str</td><td>str</td><td>str</td><td>str</td><td>str</td><td>str</td><td>str</td><td>str</td><td>str</td><td>str</td><td>str</td><td>str</td><td>str</td><td>str</td><td>str</td><td>str</td></tr></thead><tbody><tr><td>&quot;2023-12-31&quot;</td><td>&quot;USD&quot;</td><td>&quot;4523502000&quot;</td><td>&quot;11284207000&quot;</td><td>&quot;11202730000&quot;</td><td>&quot;6764105000&quot;</td><td>&quot;114377000&quot;</td><td>&quot;4409125000&quot;</td><td>&quot;None&quot;</td><td>&quot;4438625000&quot;</td><td>&quot;None&quot;</td><td>&quot;-85939000&quot;</td><td>&quot;None&quot;</td><td>&quot;88055000&quot;</td><td>&quot;11284207000&quot;</td><td>&quot;5525000&quot;</td><td>&quot;276900000&quot;</td><td>&quot;29500000&quot;</td><td>&quot;31847000&quot;</td><td>&quot;2112000&quot;</td><td>&quot;0&quot;</td><td>&quot;29735000&quot;</td><td>&quot;22198000&quot;</td><td>&quot;114377000&quot;</td><td>&quot;143877000&quot;</td><td>&quot;29735000&quot;</td></tr><tr><td>&quot;2022-12-31&quot;</td><td>&quot;USD&quot;</td><td>&quot;4932235000&quot;</td><td>&quot;11142914000&quot;</td><td>&quot;10471571000&quot;</td><td>&quot;6192622000&quot;</td><td>&quot;670253000&quot;</td><td>&quot;4261982000&quot;</td><td>&quot;None&quot;</td><td>&quot;4278949000&quot;</td><td>&quot;None&quot;</td><td>&quot;-51060000&quot;</td><td>&quot;55460000&quot;</td><td>&quot;51060000&quot;</td><td>&quot;11142914000&quot;</td><td>&quot;-6996000&quot;</td><td>&quot;252800000&quot;</td><td>&quot;31000000&quot;</td><td>&quot;648687000&quot;</td><td>&quot;139960000&quot;</td><td>&quot;7408000&quot;</td><td>&quot;501872000&quot;</td><td>&quot;479356000&quot;</td><td>&quot;714151000&quot;</td><td>&quot;745151000&quot;</td><td>&quot;464402000&quot;</td></tr><tr><td>&quot;2021-12-31&quot;</td><td>&quot;USD&quot;</td><td>&quot;4928748000&quot;</td><td>&quot;10996289000&quot;</td><td>&quot;10190372000&quot;</td><td>&quot;6069241000&quot;</td><td>&quot;838717000&quot;</td><td>&quot;4090031000&quot;</td><td>&quot;None&quot;</td><td>&quot;4121131000&quot;</td><td>&quot;None&quot;</td><td>&quot;-37791000&quot;</td><td>&quot;37791000&quot;</td><td>&quot;37791000&quot;</td><td>&quot;10996289000&quot;</td><td>&quot;4999000&quot;</td><td>&quot;228800000&quot;</td><td>&quot;31100000&quot;</td><td>&quot;805925000&quot;</td><td>&quot;189817000&quot;</td><td>&quot;0&quot;</td><td>&quot;616108000&quot;</td><td>&quot;620240000&quot;</td><td>&quot;838717000&quot;</td><td>&quot;869817000&quot;</td><td>&quot;616108000&quot;</td></tr><tr><td>&quot;2020-12-31&quot;</td><td>&quot;USD&quot;</td><td>&quot;4481614000&quot;</td><td>&quot;10051399000&quot;</td><td>&quot;9388214000&quot;</td><td>&quot;5624707000&quot;</td><td>&quot;749907000&quot;</td><td>&quot;3731707000&quot;</td><td>&quot;None&quot;</td><td>&quot;3763507000&quot;</td><td>&quot;None&quot;</td><td>&quot;-46886000&quot;</td><td>&quot;46886000&quot;</td><td>&quot;46886000&quot;</td><td>&quot;10051399000&quot;</td><td>&quot;-3984000&quot;</td><td>&quot;218500000&quot;</td><td>&quot;31600000&quot;</td><td>&quot;651015000&quot;</td><td>&quot;157994000&quot;</td><td>&quot;48022000&quot;</td><td>&quot;493021000&quot;</td><td>&quot;500831000&quot;</td><td>&quot;749907000&quot;</td><td>&quot;781507000&quot;</td><td>&quot;493021000&quot;</td></tr><tr><td>&quot;2019-12-31&quot;</td><td>&quot;USD&quot;</td><td>&quot;4254746000&quot;</td><td>&quot;9707303000&quot;</td><td>&quot;9065823000&quot;</td><td>&quot;5454257000&quot;</td><td>&quot;677180000&quot;</td><td>&quot;3577566000&quot;</td><td>&quot;None&quot;</td><td>&quot;3611566000&quot;</td><td>&quot;None&quot;</td><td>&quot;-39898000&quot;</td><td>&quot;41598000&quot;</td><td>&quot;39898000&quot;</td><td>&quot;9707303000&quot;</td><td>&quot;11220000&quot;</td><td>&quot;206700000&quot;</td><td>&quot;31700000&quot;</td><td>&quot;637746000&quot;</td><td>&quot;150850000&quot;</td><td>&quot;10756000&quot;</td><td>&quot;486896000&quot;</td><td>&quot;496520000&quot;</td><td>&quot;677180000&quot;</td><td>&quot;708880000&quot;</td><td>&quot;486896000&quot;</td></tr><tr><td>&hellip;</td><td>&hellip;</td><td>&hellip;</td><td>&hellip;</td><td>&hellip;</td><td>&hellip;</td><td>&hellip;</td><td>&hellip;</td><td>&hellip;</td><td>&hellip;</td><td>&hellip;</td><td>&hellip;</td><td>&hellip;</td><td>&hellip;</td><td>&hellip;</td><td>&hellip;</td><td>&hellip;</td><td>&hellip;</td><td>&hellip;</td><td>&hellip;</td><td>&hellip;</td><td>&hellip;</td><td>&hellip;</td><td>&hellip;</td><td>&hellip;</td><td>&hellip;</td></tr><tr><td>&quot;2014-12-31&quot;</td><td>&quot;USD&quot;</td><td>&quot;4453613000&quot;</td><td>&quot;9770453000&quot;</td><td>&quot;9086698000&quot;</td><td>&quot;5390248000&quot;</td><td>&quot;851710000&quot;</td><td>&quot;3601903000&quot;</td><td>&quot;None&quot;</td><td>&quot;3696450000&quot;</td><td>&quot;None&quot;</td><td>&quot;-73408000&quot;</td><td>&quot;None&quot;</td><td>&quot;73408000&quot;</td><td>&quot;None&quot;</td><td>&quot;3092000&quot;</td><td>&quot;235040000&quot;</td><td>&quot;56499000&quot;</td><td>&quot;781394000&quot;</td><td>&quot;287569000&quot;</td><td>&quot;73408000&quot;</td><td>&quot;493825000&quot;</td><td>&quot;477805000&quot;</td><td>&quot;854802000&quot;</td><td>&quot;911301000&quot;</td><td>&quot;493825000&quot;</td></tr><tr><td>&quot;2013-12-31&quot;</td><td>&quot;USD&quot;</td><td>&quot;3252146000&quot;</td><td>&quot;6449614000&quot;</td><td>&quot;5825522000&quot;</td><td>&quot;3241668000&quot;</td><td>&quot;660318000&quot;</td><td>&quot;2591828000&quot;</td><td>&quot;None&quot;</td><td>&quot;2622071000&quot;</td><td>&quot;None&quot;</td><td>&quot;-36618000&quot;</td><td>&quot;None&quot;</td><td>&quot;36618000&quot;</td><td>&quot;-7582000&quot;</td><td>&quot;2698000&quot;</td><td>&quot;199821000&quot;</td><td>&quot;-7974000&quot;</td><td>&quot;626398000&quot;</td><td>&quot;234640000&quot;</td><td>&quot;36618000&quot;</td><td>&quot;391758000&quot;</td><td>&quot;784532000&quot;</td><td>&quot;663016000&quot;</td><td>&quot;655042000&quot;</td><td>&quot;391758000&quot;</td></tr><tr><td>&quot;2012-12-31&quot;</td><td>&quot;USD&quot;</td><td>&quot;3098036000&quot;</td><td>&quot;6163863000&quot;</td><td>&quot;5545814000&quot;</td><td>&quot;3106967000&quot;</td><td>&quot;657315000&quot;</td><td>&quot;2440721000&quot;</td><td>&quot;None&quot;</td><td>&quot;2475387000&quot;</td><td>&quot;None&quot;</td><td>&quot;-33841000&quot;</td><td>&quot;None&quot;</td><td>&quot;33841000&quot;</td><td>&quot;-7299000&quot;</td><td>&quot;600000&quot;</td><td>&quot;185909000&quot;</td><td>&quot;-3635000&quot;</td><td>&quot;624074000&quot;</td><td>&quot;236404000&quot;</td><td>&quot;33841000&quot;</td><td>&quot;387670000&quot;</td><td>&quot;775203000&quot;</td><td>&quot;657915000&quot;</td><td>&quot;654280000&quot;</td><td>&quot;387670000&quot;</td></tr><tr><td>&quot;2011-12-31&quot;</td><td>&quot;USD&quot;</td><td>&quot;3069290000&quot;</td><td>&quot;6140774000&quot;</td><td>&quot;5505158000&quot;</td><td>&quot;3101172000&quot;</td><td>&quot;664642000&quot;</td><td>&quot;2404648000&quot;</td><td>&quot;None&quot;</td><td>&quot;2429707000&quot;</td><td>&quot;None&quot;</td><td>&quot;-30949000&quot;</td><td>&quot;None&quot;</td><td>&quot;30949000&quot;</td><td>&quot;1261000&quot;</td><td>&quot;-457000&quot;</td><td>&quot;174219000&quot;</td><td>&quot;-1730000&quot;</td><td>&quot;633236000&quot;</td><td>&quot;238554000&quot;</td><td>&quot;30949000&quot;</td><td>&quot;394682000&quot;</td><td>&quot;394943000&quot;</td><td>&quot;664185000&quot;</td><td>&quot;662455000&quot;</td><td>&quot;394682000&quot;</td></tr><tr><td>&quot;2011-12-31&quot;</td><td>&quot;USD&quot;</td><td>&quot;2961315000&quot;</td><td>&quot;5901063000&quot;</td><td>&quot;5339528000&quot;</td><td>&quot;2963888000&quot;</td><td>&quot;584933000&quot;</td><td>&quot;2376382000&quot;</td><td>&quot;None&quot;</td><td>&quot;2395967000&quot;</td><td>&quot;None&quot;</td><td>&quot;-26861000&quot;</td><td>&quot;None&quot;</td><td>&quot;26861000&quot;</td><td>&quot;2721000&quot;</td><td>&quot;-1017000&quot;</td><td>&quot;163378000&quot;</td><td>&quot;-1059000&quot;</td><td>&quot;557055000&quot;</td><td>&quot;211002000&quot;</td><td>&quot;26861000&quot;</td><td>&quot;346053000&quot;</td><td>&quot;346335000&quot;</td><td>&quot;583916000&quot;</td><td>&quot;582857000&quot;</td><td>&quot;346053000&quot;</td></tr></tbody></table></div>"
      ],
      "text/plain": [
       "shape: (28, 26)\n",
       "┌───────────┬───────────┬───────────┬───────────┬───┬───────────┬───────────┬───────────┬──────────┐\n",
       "│ fiscalDat ┆ reportedC ┆ grossProf ┆ totalReve ┆ … ┆ comprehen ┆ ebit      ┆ ebitda    ┆ netIncom │\n",
       "│ eEnding   ┆ urrency   ┆ it        ┆ nue       ┆   ┆ siveIncom ┆ ---       ┆ ---       ┆ e        │\n",
       "│ ---       ┆ ---       ┆ ---       ┆ ---       ┆   ┆ eNetOfTax ┆ str       ┆ str       ┆ ---      │\n",
       "│ str       ┆ str       ┆ str       ┆ str       ┆   ┆ ---       ┆           ┆           ┆ str      │\n",
       "│           ┆           ┆           ┆           ┆   ┆ str       ┆           ┆           ┆          │\n",
       "╞═══════════╪═══════════╪═══════════╪═══════════╪═══╪═══════════╪═══════════╪═══════════╪══════════╡\n",
       "│ 2023-12-3 ┆ USD       ┆ 452350200 ┆ 112842070 ┆ … ┆ 22198000  ┆ 114377000 ┆ 143877000 ┆ 29735000 │\n",
       "│ 1         ┆           ┆ 0         ┆ 00        ┆   ┆           ┆           ┆           ┆          │\n",
       "│ 2022-12-3 ┆ USD       ┆ 493223500 ┆ 111429140 ┆ … ┆ 479356000 ┆ 714151000 ┆ 745151000 ┆ 46440200 │\n",
       "│ 1         ┆           ┆ 0         ┆ 00        ┆   ┆           ┆           ┆           ┆ 0        │\n",
       "│ 2021-12-3 ┆ USD       ┆ 492874800 ┆ 109962890 ┆ … ┆ 620240000 ┆ 838717000 ┆ 869817000 ┆ 61610800 │\n",
       "│ 1         ┆           ┆ 0         ┆ 00        ┆   ┆           ┆           ┆           ┆ 0        │\n",
       "│ 2020-12-3 ┆ USD       ┆ 448161400 ┆ 100513990 ┆ … ┆ 500831000 ┆ 749907000 ┆ 781507000 ┆ 49302100 │\n",
       "│ 1         ┆           ┆ 0         ┆ 00        ┆   ┆           ┆           ┆           ┆ 0        │\n",
       "│ 2019-12-3 ┆ USD       ┆ 425474600 ┆ 970730300 ┆ … ┆ 496520000 ┆ 677180000 ┆ 708880000 ┆ 48689600 │\n",
       "│ 1         ┆           ┆ 0         ┆ 0         ┆   ┆           ┆           ┆           ┆ 0        │\n",
       "│ …         ┆ …         ┆ …         ┆ …         ┆ … ┆ …         ┆ …         ┆ …         ┆ …        │\n",
       "│ 2014-12-3 ┆ USD       ┆ 445361300 ┆ 977045300 ┆ … ┆ 477805000 ┆ 854802000 ┆ 911301000 ┆ 49382500 │\n",
       "│ 1         ┆           ┆ 0         ┆ 0         ┆   ┆           ┆           ┆           ┆ 0        │\n",
       "│ 2013-12-3 ┆ USD       ┆ 325214600 ┆ 644961400 ┆ … ┆ 784532000 ┆ 663016000 ┆ 655042000 ┆ 39175800 │\n",
       "│ 1         ┆           ┆ 0         ┆ 0         ┆   ┆           ┆           ┆           ┆ 0        │\n",
       "│ 2012-12-3 ┆ USD       ┆ 309803600 ┆ 616386300 ┆ … ┆ 775203000 ┆ 657915000 ┆ 654280000 ┆ 38767000 │\n",
       "│ 1         ┆           ┆ 0         ┆ 0         ┆   ┆           ┆           ┆           ┆ 0        │\n",
       "│ 2011-12-3 ┆ USD       ┆ 306929000 ┆ 614077400 ┆ … ┆ 394943000 ┆ 664185000 ┆ 662455000 ┆ 39468200 │\n",
       "│ 1         ┆           ┆ 0         ┆ 0         ┆   ┆           ┆           ┆           ┆ 0        │\n",
       "│ 2011-12-3 ┆ USD       ┆ 296131500 ┆ 590106300 ┆ … ┆ 346335000 ┆ 583916000 ┆ 582857000 ┆ 34605300 │\n",
       "│ 1         ┆           ┆ 0         ┆ 0         ┆   ┆           ┆           ┆           ┆ 0        │\n",
       "└───────────┴───────────┴───────────┴───────────┴───┴───────────┴───────────┴───────────┴──────────┘"
      ]
     },
     "execution_count": 222,
     "metadata": {},
     "output_type": "execute_result"
    }
   ],
   "source": [
    "\n",
    "cdf = pl.concat([df, df])\n",
    "cdf.unique(subset=['compa'])"
   ]
  },
  {
   "cell_type": "code",
   "execution_count": 125,
   "id": "8b475ca7-7481-44d9-9b79-a977713e2848",
   "metadata": {},
   "outputs": [],
   "source": [
    "BUCKET_NAME='mote-finder'\n",
    "prefix = 'raw/'\n",
    "def list_json_files(prefix):\n",
    "    response = s3_obj.list_objects_v2(Bucket=BUCKET_NAME, Prefix=prefix)\n",
    "    files = [content['Key'] for content in response.get('Contents', []) if content['Key'].endswith('.json')]\n",
    "    return files"
   ]
  },
  {
   "cell_type": "code",
   "execution_count": 135,
   "id": "36aa89ad-4a72-4723-a4b7-2c081568780a",
   "metadata": {},
   "outputs": [],
   "source": [
    "# response = s3_obj.list_objects_v2(Bucket='mote-finder', Prefix='raw/')\n",
    "# files = [content['Key'] for content in response.get('Contents', []) if content['Key'].endswith('.json')]\n",
    "# files = list_json_files('raw/')\n"
   ]
  },
  {
   "cell_type": "code",
   "execution_count": null,
   "id": "b30f9070-b3c7-4124-aa03-fefab06d2329",
   "metadata": {},
   "outputs": [],
   "source": []
  },
  {
   "cell_type": "code",
   "execution_count": null,
   "id": "96654987-6bfc-427a-b41f-d6b04794aafe",
   "metadata": {},
   "outputs": [],
   "source": []
  },
  {
   "cell_type": "code",
   "execution_count": 29,
   "id": "5da66e35-ee36-4748-ad13-1e868c2bd27f",
   "metadata": {},
   "outputs": [],
   "source": [
    "# import os\n",
    "# income_files = [file for file in files if 'INCOME' in file]\n",
    "# balance_files = [file for file in files if 'BALANCE' in file]\n",
    "# def save_to_s3_as_parquet(dataframe, existing_file_path):\n",
    "#     \"\"\"\n",
    "#     Save the Polars dataframe as a Parquet file into S3.\n",
    "#     \"\"\"\n",
    "#     if os.path.exists(existing_file_path):\n",
    "#         # Load the existing data from Parquet\n",
    "#         existing_data = pl.read_parquet(existing_file_path)\n",
    "\n",
    "#         # Append the new data to the existing data\n",
    "#         combined_data = pl.concat([existing_data, dataframe], rechunk=True)\n",
    "\n",
    "#         # Write back the combined data to the Parquet file (overwrite)\n",
    "#         combined_data.write_parquet(existing_file_path)\n",
    "#     else:\n",
    "#         # If the file doesn't exist, just write the new data\n",
    "#         dataframe.write_parquet(existing_file_path)\n",
    "\n",
    "#     s3_obj.upload_file(existing_file_path, BUCKET_NAME)\n",
    "    \n",
    "# combined_data = pl.DataFrame()\n",
    "\n",
    "# for file in:\n",
    "\n",
    "#     json_file = s3_obj.get_object(Bucket=BUCKET_NAME, Key=file)\n",
    "#     # print(json_file)\n",
    "#     data = json.loads(json_file['Body'].read())\n",
    "#     print(data)\n",
    "    # Focus on annualReports and convert to Polars DataFrame\n",
    "    # reports_df = pl.DataFrame(data['annualReports'])\n",
    "\n",
    "    # # Add company symbol as a column\n",
    "    # reports_df = reports_df.with_columns([\n",
    "    #     pl.lit(data['symbol']).alias(\"company_id\")\n",
    "    # ]).with_columns(\n",
    "    #     pl.col('fiscalDateEnding').str.to_date('%Y-%m-%d'),\n",
    "    #     pl.col(\"*\").exclude('fiscalDateEnding', 'reportedCurrency', 'company_id').cast(pl.Float64, strict=False)\n",
    "    # )\n",
    "    # # Combine into a master dataframe\n",
    "    # combined_data = pl.concat([combined_data, reports_df], rechunk=True)\n",
    "\n",
    "# Save the combined data back into S3 or a database\n",
    "# For this, you can store as Parquet, CSV, or another format\n",
    "# save_to_s3_as_parquet(combined_data, f'stage/INCOME_STATEMENT_combined.parquet')\n",
    "\n",
    "\n",
    "\n"
   ]
  },
  {
   "cell_type": "code",
   "execution_count": 154,
   "id": "b1620874-5d24-49c2-b6b3-b7487d70e920",
   "metadata": {},
   "outputs": [],
   "source": [
    "transfored_companies = set(combined_data['company_id'].unique().to_list())"
   ]
  },
  {
   "cell_type": "code",
   "execution_count": 152,
   "id": "068f8dcc-f8d8-4be3-9e90-a85e976769fb",
   "metadata": {},
   "outputs": [],
   "source": [
    "company_names = set([f.split('/')[1] for f in income_files])"
   ]
  },
  {
   "cell_type": "code",
   "execution_count": 177,
   "id": "bb5fb71b-d7be-4a6d-92cc-25f1a84956a3",
   "metadata": {},
   "outputs": [],
   "source": [
    "missing_files = list(company_names.difference(transfored_companies))\n",
    "# to_fix_companies = []\n",
    "for mc in missing_files:\n",
    "    files = list_json_files(f'raw/{mc}/')\n",
    "    for f in files:\n",
    "        json_file = s3_obj.get_object(Bucket=BUCKET_NAME, Key=f)\n",
    "        # print(json_file)\n",
    "        data = json.loads(json_file['Body'].read())\n",
    "        if 'annualReports' in data:\n",
    "            print(mc)\n",
    "            print(\"company contains info\")\n",
    "            print(data)\n",
    "    # to_fix_companies.append(mc)"
   ]
  },
  {
   "cell_type": "code",
   "execution_count": 96,
   "id": "7358e2c9-3fb5-4651-bd22-a621c7b666f5",
   "metadata": {},
   "outputs": [
    {
     "data": {
      "text/plain": [
       "['stage/combined_BALANCE.parquet', 'stage/combined_INCOME.parquet']"
      ]
     },
     "execution_count": 96,
     "metadata": {},
     "output_type": "execute_result"
    }
   ],
   "source": [
    "S3_CLIENT = boto3.client('s3')\n",
    "def list_s3_files(s3_prefix):\n",
    "    # s3 = boto3.client('s3')\n",
    "    response = S3_CLIENT.list_objects_v2(Bucket='mote-finder', Prefix=s3_prefix)\n",
    "    # print(response)\n",
    "    return [content['Key'] for content in response.get('Contents', [])]\n",
    "\n",
    "s3_keys = list_s3_files('raw/')\n",
    "# parquet_paths = list_s3_files(\"stage/\")\n",
    "endpoint_keys = [file for file in s3_keys if 'EARNINGS' in file]\n",
    "endpoint_keys\n",
    "for s3_key in endpoint_keys:\n",
    "    # print(s3_key)\n",
    "    response = S3_CLIENT.get_object(Bucket='mote-finder', Key=s3_key)\n",
    "    # print(response[''])\n",
    "    json_data = json.loads(response['Body'].read())\n",
    "    # Process and insert into table\n",
    "    reports_df = pl.DataFrame(json_data['annualEarnings'])\n",
    "# json_data\n",
    "\n",
    "\n"
   ]
  },
  {
   "cell_type": "code",
   "execution_count": 105,
   "id": "205b4317-8adf-4ca0-ad6a-3e0eaa23af0b",
   "metadata": {},
   "outputs": [
    {
     "data": {
      "text/plain": [
       "'stage/combined_BALANCE.parquet'"
      ]
     },
     "execution_count": 105,
     "metadata": {},
     "output_type": "execute_result"
    }
   ],
   "source": [
    "fs = list_s3_files('stage/combined_BALANCE')\n",
    "fs[0]"
   ]
  },
  {
   "cell_type": "code",
   "execution_count": null,
   "id": "2b1638c4-6838-4df5-a501-21a595af3a8e",
   "metadata": {},
   "outputs": [],
   "source": []
  },
  {
   "cell_type": "code",
   "execution_count": null,
   "id": "cad87e31-5fe8-45b7-83d7-a1994588d9b6",
   "metadata": {},
   "outputs": [],
   "source": []
  },
  {
   "cell_type": "markdown",
   "id": "9172950a-1b62-4d7a-8a75-96fcc36e251d",
   "metadata": {},
   "source": [
    "### Building the Big 5"
   ]
  },
  {
   "cell_type": "code",
   "execution_count": null,
   "id": "7ca7ab2f-25aa-4f99-b14f-b37467b3f0da",
   "metadata": {},
   "outputs": [],
   "source": []
  },
  {
   "cell_type": "code",
   "execution_count": 32,
   "id": "a15eddb9-90ae-4c3d-8ac0-26f29da4e353",
   "metadata": {},
   "outputs": [],
   "source": [
    "# additional transformations\n",
    "balance_df = pl.read_parquet('s3://mote-finder/stage/combined_BALANCE.parquet')\n",
    "income_df = pl.read_parquet('s3://mote-finder/stage/combined_INCOME.parquet')\n"
   ]
  },
  {
   "cell_type": "code",
   "execution_count": 73,
   "id": "170b2ea7-83b7-4584-b8fb-bb9fc596fadc",
   "metadata": {},
   "outputs": [],
   "source": [
    "full_df = income_df.join(balance_df, how = 'inner', on = ['company_id', 'fiscalDateEnding'])\n",
    "full_df = full_df.with_columns(\n",
    "    (pl.col('incomeTaxExpense')/pl.col('incomeBeforeTax')).alias('taxRate')\n",
    ").with_columns(\n",
    "    (pl.col('operatingIncome')*(1-pl.col('taxRate'))).alias('NOPAT'),\n",
    "    (pl.col('totalAssets') - pl.col('totalLiabilities')).alias('Equity')\n",
    "    \n",
    ").with_columns(\n",
    "    (pl.col('NOPAT')/(pl.col('Equity') + pl.col('longTermDebt'))).alias('ROIC')\n",
    ")\n",
    "roic_df = full_df.select(['company_id', 'fiscalDateEnding',  'ROIC'])"
   ]
  },
  {
   "cell_type": "code",
   "execution_count": null,
   "id": "9f82fc4a-09ea-4c9c-be68-cacf448b13a1",
   "metadata": {},
   "outputs": [],
   "source": [
    "equity, EPS, Sales, cash growth rate"
   ]
  },
  {
   "cell_type": "code",
   "execution_count": 108,
   "id": "0bc1404a-c380-4f35-8303-ec9c047f6c49",
   "metadata": {},
   "outputs": [
    {
     "data": {
      "text/html": [
       "<div><style>\n",
       ".dataframe > thead > tr,\n",
       ".dataframe > tbody > tr {\n",
       "  text-align: right;\n",
       "  white-space: pre-wrap;\n",
       "}\n",
       "</style>\n",
       "<small>shape: (142, 3)</small><table border=\"1\" class=\"dataframe\"><thead><tr><th>company_id</th><th>fiscalDateEnding</th><th>ROIC</th></tr><tr><td>str</td><td>date</td><td>f64</td></tr></thead><tbody><tr><td>&quot;AAP&quot;</td><td>2023-12-31</td><td>0.0248</td></tr><tr><td>&quot;AAP&quot;</td><td>2022-12-31</td><td>0.138784</td></tr><tr><td>&quot;AAP&quot;</td><td>2019-12-31</td><td>0.120334</td></tr><tr><td>&quot;AAP&quot;</td><td>2021-12-31</td><td>0.154032</td></tr><tr><td>&quot;AAP&quot;</td><td>2020-12-31</td><td>0.123661</td></tr><tr><td>&hellip;</td><td>&hellip;</td><td>&hellip;</td></tr><tr><td>&quot;MMM&quot;</td><td>2020-12-31</td><td>0.181312</td></tr><tr><td>&quot;MMM&quot;</td><td>2009-12-31</td><td>0.177338</td></tr><tr><td>&quot;MMM&quot;</td><td>2012-12-31</td><td>0.191493</td></tr><tr><td>&quot;MMM&quot;</td><td>2023-12-31</td><td>-0.344988</td></tr><tr><td>&quot;MMM&quot;</td><td>2017-12-31</td><td>0.199754</td></tr></tbody></table></div>"
      ],
      "text/plain": [
       "shape: (142, 3)\n",
       "┌────────────┬──────────────────┬───────────┐\n",
       "│ company_id ┆ fiscalDateEnding ┆ ROIC      │\n",
       "│ ---        ┆ ---              ┆ ---       │\n",
       "│ str        ┆ date             ┆ f64       │\n",
       "╞════════════╪══════════════════╪═══════════╡\n",
       "│ AAP        ┆ 2023-12-31       ┆ 0.0248    │\n",
       "│ AAP        ┆ 2022-12-31       ┆ 0.138784  │\n",
       "│ AAP        ┆ 2019-12-31       ┆ 0.120334  │\n",
       "│ AAP        ┆ 2021-12-31       ┆ 0.154032  │\n",
       "│ AAP        ┆ 2020-12-31       ┆ 0.123661  │\n",
       "│ …          ┆ …                ┆ …         │\n",
       "│ MMM        ┆ 2020-12-31       ┆ 0.181312  │\n",
       "│ MMM        ┆ 2009-12-31       ┆ 0.177338  │\n",
       "│ MMM        ┆ 2012-12-31       ┆ 0.191493  │\n",
       "│ MMM        ┆ 2023-12-31       ┆ -0.344988 │\n",
       "│ MMM        ┆ 2017-12-31       ┆ 0.199754  │\n",
       "└────────────┴──────────────────┴───────────┘"
      ]
     },
     "execution_count": 108,
     "metadata": {},
     "output_type": "execute_result"
    }
   ],
   "source": [
    "roic_df.sort('company_id')"
   ]
  },
  {
   "cell_type": "code",
   "execution_count": null,
   "id": "8ba0d46f-38d0-40c2-b9a2-66e0ffc21c84",
   "metadata": {},
   "outputs": [],
   "source": []
  }
 ],
 "metadata": {
  "kernelspec": {
   "display_name": "Python 3 (ipykernel)",
   "language": "python",
   "name": "python3"
  },
  "language_info": {
   "codemirror_mode": {
    "name": "ipython",
    "version": 3
   },
   "file_extension": ".py",
   "mimetype": "text/x-python",
   "name": "python",
   "nbconvert_exporter": "python",
   "pygments_lexer": "ipython3",
   "version": "3.9.17"
  }
 },
 "nbformat": 4,
 "nbformat_minor": 5
}
